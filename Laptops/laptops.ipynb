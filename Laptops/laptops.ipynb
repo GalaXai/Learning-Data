{
 "cells": [
  {
   "cell_type": "code",
   "execution_count": 1,
   "metadata": {},
   "outputs": [
    {
     "data": {
      "text/html": [
       "<div>\n",
       "<style scoped>\n",
       "    .dataframe tbody tr th:only-of-type {\n",
       "        vertical-align: middle;\n",
       "    }\n",
       "\n",
       "    .dataframe tbody tr th {\n",
       "        vertical-align: top;\n",
       "    }\n",
       "\n",
       "    .dataframe thead th {\n",
       "        text-align: right;\n",
       "    }\n",
       "</style>\n",
       "<table border=\"1\" class=\"dataframe\">\n",
       "  <thead>\n",
       "    <tr style=\"text-align: right;\">\n",
       "      <th></th>\n",
       "      <th>Unnamed: 0</th>\n",
       "      <th>Company</th>\n",
       "      <th>TypeName</th>\n",
       "      <th>Inches</th>\n",
       "      <th>ScreenResolution</th>\n",
       "      <th>Cpu</th>\n",
       "      <th>Ram</th>\n",
       "      <th>Memory</th>\n",
       "      <th>Gpu</th>\n",
       "      <th>OpSys</th>\n",
       "      <th>Weight</th>\n",
       "      <th>Price</th>\n",
       "    </tr>\n",
       "  </thead>\n",
       "  <tbody>\n",
       "    <tr>\n",
       "      <th>0</th>\n",
       "      <td>0</td>\n",
       "      <td>Apple</td>\n",
       "      <td>Ultrabook</td>\n",
       "      <td>13.3</td>\n",
       "      <td>IPS Panel Retina Display 2560x1600</td>\n",
       "      <td>Intel Core i5 2.3GHz</td>\n",
       "      <td>8GB</td>\n",
       "      <td>128GB SSD</td>\n",
       "      <td>Intel Iris Plus Graphics 640</td>\n",
       "      <td>macOS</td>\n",
       "      <td>1.37kg</td>\n",
       "      <td>71378.6832</td>\n",
       "    </tr>\n",
       "    <tr>\n",
       "      <th>1</th>\n",
       "      <td>1</td>\n",
       "      <td>Apple</td>\n",
       "      <td>Ultrabook</td>\n",
       "      <td>13.3</td>\n",
       "      <td>1440x900</td>\n",
       "      <td>Intel Core i5 1.8GHz</td>\n",
       "      <td>8GB</td>\n",
       "      <td>128GB Flash Storage</td>\n",
       "      <td>Intel HD Graphics 6000</td>\n",
       "      <td>macOS</td>\n",
       "      <td>1.34kg</td>\n",
       "      <td>47895.5232</td>\n",
       "    </tr>\n",
       "    <tr>\n",
       "      <th>2</th>\n",
       "      <td>2</td>\n",
       "      <td>HP</td>\n",
       "      <td>Notebook</td>\n",
       "      <td>15.6</td>\n",
       "      <td>Full HD 1920x1080</td>\n",
       "      <td>Intel Core i5 7200U 2.5GHz</td>\n",
       "      <td>8GB</td>\n",
       "      <td>256GB SSD</td>\n",
       "      <td>Intel HD Graphics 620</td>\n",
       "      <td>No OS</td>\n",
       "      <td>1.86kg</td>\n",
       "      <td>30636.0000</td>\n",
       "    </tr>\n",
       "    <tr>\n",
       "      <th>3</th>\n",
       "      <td>3</td>\n",
       "      <td>Apple</td>\n",
       "      <td>Ultrabook</td>\n",
       "      <td>15.4</td>\n",
       "      <td>IPS Panel Retina Display 2880x1800</td>\n",
       "      <td>Intel Core i7 2.7GHz</td>\n",
       "      <td>16GB</td>\n",
       "      <td>512GB SSD</td>\n",
       "      <td>AMD Radeon Pro 455</td>\n",
       "      <td>macOS</td>\n",
       "      <td>1.83kg</td>\n",
       "      <td>135195.3360</td>\n",
       "    </tr>\n",
       "    <tr>\n",
       "      <th>4</th>\n",
       "      <td>4</td>\n",
       "      <td>Apple</td>\n",
       "      <td>Ultrabook</td>\n",
       "      <td>13.3</td>\n",
       "      <td>IPS Panel Retina Display 2560x1600</td>\n",
       "      <td>Intel Core i5 3.1GHz</td>\n",
       "      <td>8GB</td>\n",
       "      <td>256GB SSD</td>\n",
       "      <td>Intel Iris Plus Graphics 650</td>\n",
       "      <td>macOS</td>\n",
       "      <td>1.37kg</td>\n",
       "      <td>96095.8080</td>\n",
       "    </tr>\n",
       "  </tbody>\n",
       "</table>\n",
       "</div>"
      ],
      "text/plain": [
       "   Unnamed: 0 Company   TypeName  Inches                    ScreenResolution  \\\n",
       "0           0   Apple  Ultrabook    13.3  IPS Panel Retina Display 2560x1600   \n",
       "1           1   Apple  Ultrabook    13.3                            1440x900   \n",
       "2           2      HP   Notebook    15.6                   Full HD 1920x1080   \n",
       "3           3   Apple  Ultrabook    15.4  IPS Panel Retina Display 2880x1800   \n",
       "4           4   Apple  Ultrabook    13.3  IPS Panel Retina Display 2560x1600   \n",
       "\n",
       "                          Cpu   Ram               Memory  \\\n",
       "0        Intel Core i5 2.3GHz   8GB            128GB SSD   \n",
       "1        Intel Core i5 1.8GHz   8GB  128GB Flash Storage   \n",
       "2  Intel Core i5 7200U 2.5GHz   8GB            256GB SSD   \n",
       "3        Intel Core i7 2.7GHz  16GB            512GB SSD   \n",
       "4        Intel Core i5 3.1GHz   8GB            256GB SSD   \n",
       "\n",
       "                            Gpu  OpSys  Weight        Price  \n",
       "0  Intel Iris Plus Graphics 640  macOS  1.37kg   71378.6832  \n",
       "1        Intel HD Graphics 6000  macOS  1.34kg   47895.5232  \n",
       "2         Intel HD Graphics 620  No OS  1.86kg   30636.0000  \n",
       "3            AMD Radeon Pro 455  macOS  1.83kg  135195.3360  \n",
       "4  Intel Iris Plus Graphics 650  macOS  1.37kg   96095.8080  "
      ]
     },
     "execution_count": 1,
     "metadata": {},
     "output_type": "execute_result"
    }
   ],
   "source": [
    "import numpy as np\n",
    "import pandas as pd\n",
    "import matplotlib.pyplot as plt\n",
    "import seaborn as sns\n",
    "import re\n",
    "\n",
    "data = pd.read_csv('laptop_data.csv')\n",
    "\n",
    "data.shape\n",
    "\n",
    "data.head()"
   ]
  },
  {
   "cell_type": "markdown",
   "metadata": {},
   "source": [
    "Dropping unwatned Columns and removing units written after values"
   ]
  },
  {
   "cell_type": "code",
   "execution_count": 2,
   "metadata": {},
   "outputs": [],
   "source": [
    "data.drop(columns=['Unnamed: 0'], inplace=True)\n",
    "## Remove KG GB and convert the columns to numeric\n",
    "data['Ram'].replace('GB','',inplace=True, regex=True)\n",
    "data['Weight'].replace('kg','',inplace=True, regex=True)\n",
    "\n",
    "data['Ram'] = data['Ram'].astype('int32')\n",
    "data['Weight'] = data['Weight'].astype('float32')"
   ]
  },
  {
   "cell_type": "markdown",
   "metadata": {},
   "source": [
    "# Basic Graph"
   ]
  },
  {
   "cell_type": "code",
   "execution_count": 3,
   "metadata": {},
   "outputs": [
    {
     "data": {
      "image/png": "[encoded data removed]",
      "text/plain": [
       "<Figure size 360x360 with 1 Axes>"
      ]
     },
     "metadata": {
      "needs_background": "light"
     },
     "output_type": "display_data"
    }
   ],
   "source": [
    "#Price Distribution\n",
    "\n",
    "sns.displot(data['Price'])\n",
    "plt.show()"
   ]
  },
  {
   "cell_type": "code",
   "execution_count": 4,
   "metadata": {},
   "outputs": [
    {
     "data": {
      "image/png": "[encoded data removed]",
      "text/plain": [
       "<Figure size 432x288 with 1 Axes>"
      ]
     },
     "metadata": {
      "needs_background": "light"
     },
     "output_type": "display_data"
    }
   ],
   "source": [
    "#Company to Price Distribution\n",
    "\n",
    "sns.barplot(x='Company',y='Price',data=data)\n",
    "\n",
    "plt.xticks(rotation = 90)\n",
    "plt.show()"
   ]
  },
  {
   "cell_type": "code",
   "execution_count": 5,
   "metadata": {},
   "outputs": [
    {
     "data": {
      "image/png": "[encoded data removed]",
      "text/plain": [
       "<Figure size 432x288 with 1 Axes>"
      ]
     },
     "metadata": {
      "needs_background": "light"
     },
     "output_type": "display_data"
    }
   ],
   "source": [
    "#Type of Laptop to Price Distribution\n",
    "sns.barplot(x='TypeName',y='Price',data=data)\n",
    "\n",
    "plt.xticks(rotation = 90)\n",
    "plt.show()"
   ]
  },
  {
   "cell_type": "markdown",
   "metadata": {},
   "source": [
    "# Aditional Data Enginering"
   ]
  },
  {
   "cell_type": "code",
   "execution_count": 6,
   "metadata": {},
   "outputs": [],
   "source": [
    "# Adding TouchScreen Colum to the data\n",
    "\n",
    "data['Touchscreen'] = data['ScreenResolution'].apply(lambda x:1 if 'Touchscreen' in x else 0) #LUP\n",
    "\n",
    "data['IPS'] = data['ScreenResolution'].apply(lambda x:1 if 'IPS' in x else 0) \n",
    "\n",
    "def x_res(s):\n",
    "    return s.split()[-1].split('x')[0]\n",
    "\n",
    "def y_res(s):\n",
    "    return s.split()[-1].split('x')[1]\n",
    "\n",
    "data['X_res'] = data['ScreenResolution'].apply(x_res).astype('int32')\n",
    "data['Y_res'] = data['ScreenResolution'].apply(y_res).astype('int32')\n",
    "\n",
    "#PPI Pixel per inch\n",
    "data['Ppi'] = (((data['X_res']**2) + (data['Y_res']**2)**0.5)/data['Inches']).astype('float32')\n",
    "\n"
   ]
  },
  {
   "cell_type": "code",
   "execution_count": 7,
   "metadata": {},
   "outputs": [
    {
     "data": {
      "text/plain": [
       "Price          1.000000\n",
       "Ram            0.743007\n",
       "X_res          0.556529\n",
       "Y_res          0.552809\n",
       "Ppi            0.480376\n",
       "IPS            0.252208\n",
       "Weight         0.210370\n",
       "Touchscreen    0.191226\n",
       "Inches         0.068197\n",
       "Name: Price, dtype: float64"
      ]
     },
     "execution_count": 7,
     "metadata": {},
     "output_type": "execute_result"
    }
   ],
   "source": [
    "# Price correlation with other features\n",
    "\n",
    "data.corr()['Price'].sort_values(ascending=False)"
   ]
  },
  {
   "cell_type": "markdown",
   "metadata": {},
   "source": [
    "# Prepering Data for Machine Learning Algorythms"
   ]
  },
  {
   "cell_type": "code",
   "execution_count": 8,
   "metadata": {},
   "outputs": [],
   "source": [
    "# Removing non important features\n",
    "data.drop(columns=(['ScreenResolution', 'Inches','X_res','Y_res']), inplace=True)"
   ]
  },
  {
   "cell_type": "code",
   "execution_count": 9,
   "metadata": {},
   "outputs": [
    {
     "data": {
      "image/png": "[encoded data removed]",
      "text/plain": [
       "<Figure size 432x288 with 1 Axes>"
      ]
     },
     "metadata": {
      "needs_background": "light"
     },
     "output_type": "display_data"
    }
   ],
   "source": [
    "#CPU column\n",
    "data\n",
    "def fetch_processor(x):\n",
    "    cpu_name = \" \".join(x.split()[0:3])\n",
    "    if cpu_name == 'Intel Core i7' or cpu_name == 'Intel Core i5' or cpu_name == 'Intel Core i3':\n",
    "        return cpu_name\n",
    "    elif cpu_name.split()[0] == 'Intel':\n",
    "        return 'Other Intel cpu'\n",
    "    else:\n",
    "        return 'AMD cpu'\n",
    "data['Cpu_brand'] = data['Cpu'].apply(lambda x: fetch_processor(x))\n",
    "\n",
    "\n",
    "\n",
    "sns.barplot(x=data['Cpu_brand'],y=data['Price'])\n",
    "plt.xticks(rotation='vertical')\n",
    "plt.show()"
   ]
  },
  {
   "cell_type": "code",
   "execution_count": 10,
   "metadata": {},
   "outputs": [
    {
     "data": {
      "image/png": "[encoded data removed]",
      "text/plain": [
       "<Figure size 432x288 with 1 Axes>"
      ]
     },
     "metadata": {
      "needs_background": "light"
     },
     "output_type": "display_data"
    }
   ],
   "source": [
    "#RAM column\n",
    "\n",
    "sns.barplot(x=data['Ram'],y=data['Price'])\n",
    "plt.show()"
   ]
  },
  {
   "cell_type": "code",
   "execution_count": 11,
   "metadata": {},
   "outputs": [],
   "source": [
    "# data drive column\n",
    "def get_numbers(x):\n",
    "    return re.sub('\\D','',x)\n",
    "\n",
    "data['Memory'] = data['Memory'].astype(str).replace('.0','')\n",
    "data['Memory'] = data['Memory'].str.replace('GB','')\n",
    "data['Memory'] = data['Memory'].str.replace('TB','000')\n",
    "\n",
    "new = data[\"Memory\"].str.split(\"+\", n = 1, expand = True)\n",
    "\n",
    "data['First'] = new[0]\n",
    "data['Second'] = new[1]\n",
    "\n",
    "data['First'] = data['First'].str.strip()\n",
    "\n",
    "data['Layer1HDD'] = data['First'].apply(lambda x: 1 if 'HDD' in x else 0)\n",
    "data['Layer1SSD'] = data['First'].apply(lambda x: 1 if 'SSD' in x else 0 )\n",
    "data['Layer1Hybrid'] = data['First'].apply(lambda x: 1 if 'Hybrid' in x else 0)\n",
    "data[\"Layer1Flash_Storage\"] =  data['First'].apply(lambda x: 1 if 'Flash' in x else 0)\n",
    "data['First'] = data['First'].apply(lambda x: get_numbers(x))\n",
    "\n",
    "data['Second'].fillna('0',inplace=True)\n",
    "data['Layer2HDD'] = data['Second'].apply(lambda x: 1 if 'HDD' in x else 0)\n",
    "data['Layer2SSD'] = data['Second'].apply(lambda x: 1 if 'SSD' in x else 0 )\n",
    "data['Layer2Hybrid'] = data['Second'].apply(lambda x: 1 if 'Hybrid' in x else 0)\n",
    "data[\"Layer2Flash_Storage\"] =  data['Second'].apply(lambda x: 1 if 'Flash' in x else 0)\n",
    "data['Second'] = data['Second'].apply(lambda x: get_numbers(x))\n",
    "\n",
    "data[\"First\"] = data[\"First\"].astype(int)\n",
    "data[\"Second\"] = data[\"Second\"].astype(int)\n",
    "\n",
    "\n",
    "data['HDD'] = (data[\"First\"]*data[\"Layer1HDD\"]+data[\"Second\"]*data[\"Layer2HDD\"])\n",
    "data['SSD'] = (data[\"First\"]*data[\"Layer1SSD\"]+data[\"Second\"]*data[\"Layer2SSD\"])\n",
    "data['Hybrid'] = (data[\"First\"]*data[\"Layer1Hybrid\"]+data[\"Second\"]*data[\"Layer2Hybrid\"])\n",
    "data[\"Flash_Storage\"] =  (data[\"First\"]*data[\"Layer1Flash_Storage\"]+data[\"Second\"]*data[\"Layer2Flash_Storage\"])\n",
    "\n",
    "#Drop the unused columns\n",
    "data.drop(columns=['First','Second','Layer1HDD','Layer1SSD','Layer1Hybrid','Layer1Flash_Storage','Layer2HDD','Layer2SSD','Layer2Hybrid','Layer2Flash_Storage'], inplace=True)\n",
    "\n",
    "#\n",
    "data.drop(columns=['Hybrid','Flash_Storage','Memory','Cpu'],inplace=True)\n",
    "\n"
   ]
  },
  {
   "cell_type": "code",
   "execution_count": 12,
   "metadata": {},
   "outputs": [
    {
     "data": {
      "text/plain": [
       "Price          1.000000\n",
       "Ram            0.743007\n",
       "SSD            0.670799\n",
       "Ppi            0.480376\n",
       "IPS            0.252208\n",
       "Weight         0.210370\n",
       "Touchscreen    0.191226\n",
       "HDD           -0.093701\n",
       "Name: Price, dtype: float64"
      ]
     },
     "execution_count": 12,
     "metadata": {},
     "output_type": "execute_result"
    }
   ],
   "source": [
    "data.corr()['Price'].sort_values(ascending=False)\n"
   ]
  },
  {
   "cell_type": "code",
   "execution_count": 13,
   "metadata": {},
   "outputs": [
    {
     "data": {
      "image/png": "[encoded data removed]",
      "text/plain": [
       "<Figure size 432x288 with 1 Axes>"
      ]
     },
     "metadata": {
      "needs_background": "light"
     },
     "output_type": "display_data"
    }
   ],
   "source": [
    "# GPU column\n",
    "\n",
    "def fetch_gpu(x):\n",
    "    gpu = \" \".join(x.split()[0])\n",
    "    if gpu == 'AMD':\n",
    "        return 'AMD gpu'\n",
    "    elif gpu == 'Nvidia':\n",
    "        return 'Nvidia gpu'\n",
    "    else:\n",
    "        return 'Intel cpu'\n",
    "\n",
    "#data['Gpu_company'] = data['Gpu'].apply(lambda x: fetch_gpu(x))\n",
    "\n",
    "data['Gpu_brand'] = data['Gpu'].apply(lambda x: x.split()[0])\n",
    "data = data[data['Gpu_brand'] != 'ARM']\n",
    "\n",
    "data.drop(columns=['Gpu'],inplace=True)\n",
    "\n",
    "sns.barplot(x=data['Gpu_brand'],y=data['Price'])\n",
    "plt.show()"
   ]
  },
  {
   "cell_type": "code",
   "execution_count": 14,
   "metadata": {},
   "outputs": [
    {
     "data": {
      "image/png": "[encoded data removed]",
      "text/plain": [
       "<Figure size 432x288 with 1 Axes>"
      ]
     },
     "metadata": {
      "needs_background": "light"
     },
     "output_type": "display_data"
    }
   ],
   "source": [
    "# OS column\n",
    "\n",
    "def fetch_os(x):\n",
    "    if x == 'Windows 10' or x == 'Windows 7' or x == 'Windows 10 S':\n",
    "        return 'Windows'\n",
    "    elif x == 'macOS' or x=='Mac OS X':\n",
    "        return 'Mac'\n",
    "    else:\n",
    "        return 'Linux/Others/No OS'\n",
    "\n",
    "data['Os'] = data['OpSys'].apply(lambda x: fetch_os(x))\n",
    "data.drop(columns=['OpSys'],inplace=True)\n",
    "\n",
    "sns.barplot(x=data['Os'],y=data['Price'])\n",
    "plt.show()\n"
   ]
  },
  {
   "cell_type": "code",
   "execution_count": 15,
   "metadata": {},
   "outputs": [
    {
     "name": "stderr",
     "output_type": "stream",
     "text": [
      "c:\\Users\\Galax\\anaconda3\\lib\\site-packages\\seaborn\\distributions.py:2619: FutureWarning: `distplot` is a deprecated function and will be removed in a future version. Please adapt your code to use either `displot` (a figure-level function with similar flexibility) or `histplot` (an axes-level function for histograms).\n",
      "  warnings.warn(msg, FutureWarning)\n"
     ]
    },
    {
     "data": {
      "text/plain": [
       "<function matplotlib.pyplot.show(close=None, block=None)>"
      ]
     },
     "execution_count": 15,
     "metadata": {},
     "output_type": "execute_result"
    },
    {
     "data": {
      "image/png": "[encoded data removed]",
      "text/plain": [
       "<Figure size 432x288 with 1 Axes>"
      ]
     },
     "metadata": {
      "needs_background": "light"
     },
     "output_type": "display_data"
    }
   ],
   "source": [
    "\n",
    "sns.distplot(np.log(data['Price']))\n",
    "plt.show\n",
    "\n"
   ]
  },
  {
   "cell_type": "markdown",
   "metadata": {},
   "source": [
    "# Machine Learning Part"
   ]
  },
  {
   "cell_type": "code",
   "execution_count": 16,
   "metadata": {},
   "outputs": [],
   "source": [
    "#Import models\n",
    "from sklearn.model_selection import train_test_split\n",
    "from sklearn.model_selection import train_test_split\n",
    "from sklearn.compose import ColumnTransformer\n",
    "from sklearn.pipeline import Pipeline\n",
    "from sklearn.preprocessing import OneHotEncoder\n",
    "from sklearn.metrics import r2_score,mean_absolute_error\n",
    "from sklearn.linear_model import LinearRegression,Ridge,Lasso\n",
    "from sklearn.neighbors import KNeighborsRegressor\n",
    "from sklearn.tree import DecisionTreeRegressor\n",
    "from sklearn.ensemble import RandomForestRegressor, GradientBoostingRegressor, AdaBoostRegressor, ExtraTreesRegressor\n",
    "from sklearn.svm import SVR\n",
    "\n",
    "\n",
    "# Split the data to train and test data\n",
    "\n",
    "\n",
    "\n",
    "X= data.drop(columns=['Price'])\n",
    "\n",
    "y = np.log(data['Price'])\n",
    "\n",
    "X_train, X_test, y_train, y_test = train_test_split(X,y,test_size=0.1,random_state=2)\n",
    "\n",
    "\n"
   ]
  },
  {
   "cell_type": "code",
   "execution_count": 17,
   "metadata": {},
   "outputs": [
    {
     "data": {
      "text/plain": [
       "'\\nLinear Reggresion\\nR2 score 0.8066202760883244\\nMAE 0.21060313071356285\\n\\nRandom Forest Regresson\\nR2 score 0.8771330698683409\\nMAE 0.1666083035886323\\n\\nKNeighborsRegressor\\nR2 score 0.7819519515446344\\nMAE 0.1944067651452086\\n\\nDecisionTreeRegressor\\nR2 score 0.8376241289744799\\nMAE 0.19186180203262584\\n\\nSVR\\nR2 score 0.7730465236098295\\nMAE 0.20846463994046804\\n'"
      ]
     },
     "execution_count": 17,
     "metadata": {},
     "output_type": "execute_result"
    }
   ],
   "source": [
    "#TESTING\n",
    "'''\n",
    "Linear Reggresion\n",
    "R2 score 0.8066202760883244\n",
    "MAE 0.21060313071356285\n",
    "\n",
    "Random Forest Regresson\n",
    "R2 score 0.8771330698683409\n",
    "MAE 0.1666083035886323\n",
    "\n",
    "KNeighborsRegressor\n",
    "R2 score 0.7819519515446344\n",
    "MAE 0.1944067651452086\n",
    "\n",
    "DecisionTreeRegressor\n",
    "R2 score 0.8376241289744799\n",
    "MAE 0.19186180203262584\n",
    "\n",
    "SVR\n",
    "R2 score 0.7730465236098295\n",
    "MAE 0.20846463994046804\n",
    "'''"
   ]
  },
  {
   "cell_type": "markdown",
   "metadata": {},
   "source": [
    "Implementing Pipeline for testing and training"
   ]
  },
  {
   "cell_type": "code",
   "execution_count": 18,
   "metadata": {},
   "outputs": [
    {
     "name": "stdout",
     "output_type": "stream",
     "text": [
      "R2 score 0.8771330698683409\n",
      "MAE 0.1666083035886323\n"
     ]
    }
   ],
   "source": [
    "step1 = ColumnTransformer(transformers=[\n",
    "    ('col_tnf', OneHotEncoder(sparse = False, drop='first'),[0,1,7,10,11])\n",
    "    ],remainder='passthrough')\n",
    "\n",
    "#step2 = LinearRegression()\n",
    "#step2 = KNeighborsRegressor(n_neighbors=9,weights='distance',algorithm='auto')\n",
    "#step2 = DecisionTreeRegressor(max_depth=15,random_state=0,max_features=0.75)\n",
    "#step2 = SVR(kernel='rbf',C=3,gamma=0.15)\n",
    "step2 = RandomForestRegressor(n_estimators=100,random_state=3,max_samples=0.5,max_features=0.75,max_depth=15)\n",
    "pipe = Pipeline([('step1',step1),('step2',step2)])\n",
    "\n",
    "pipe.fit(X_train,y_train)\n",
    "y_pred = pipe.predict(X_test)\n",
    "\n",
    "print('R2 score', r2_score(y_test,y_pred))\n",
    "print('MAE',mean_absolute_error(y_test,y_pred))"
   ]
  },
  {
   "cell_type": "code",
   "execution_count": 19,
   "metadata": {},
   "outputs": [],
   "source": [
    "#Exporting the model\n",
    "import pickle\n",
    "\n",
    "data.to_csv(\"df.csv\",index=False)\n",
    "pickle.dump(pipe,open('pipe.pkl','wb'))"
   ]
  }
 ],
 "metadata": {
  "interpreter": {
   "hash": "d94c23c343eef5e39ccdf4de1b88d2b37269e515f28e3e8dda4f989127a1dd17"
  },
  "kernelspec": {
   "display_name": "Python 3.9.7 ('base')",
   "language": "python",
   "name": "python3"
  },
  "language_info": {
   "codemirror_mode": {
    "name": "ipython",
    "version": 3
   },
   "file_extension": ".py",
   "mimetype": "text/x-python",
   "name": "python",
   "nbconvert_exporter": "python",
   "pygments_lexer": "ipython3",
   "version": "3.9.7"
  },
  "orig_nbformat": 4
 },
 "nbformat": 4,
 "nbformat_minor": 2
}
