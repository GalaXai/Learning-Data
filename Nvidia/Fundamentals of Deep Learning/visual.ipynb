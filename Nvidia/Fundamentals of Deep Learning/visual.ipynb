{
 "cells": [
  {
   "cell_type": "markdown",
   "source": [
    "# Next Steps Project\n",
    "This notebook provides a more advanced and less structured exercise for students who have completed the NVIDIA DLI workshop *[Fundamentals of Deep Learning](https://www.nvidia.com/content/dam/en-zz/Solutions/deep-learning/deep-learning-education/dli-fundamentals-of-deep-learning-1369828-r3-web.pdf)* and wish to practice more before working on their own applications.\n",
    "\n",
    "The container this Jupyter Lab environment is running in was also used in the workshop, so, you can use all the same libraries and techniques from the workshop while working on this exercise."
   ],
   "metadata": {
    "collapsed": false,
    "pycharm": {
     "name": "#%% md\n"
    }
   }
  },
  {
   "cell_type": "markdown",
   "source": [
    "## Project: Visualize a Neural Network\n",
    "In the Lecture 3, this is a slide that visualizes a neural network:\n",
    "\n",
    "![lecture_3_network](03_ASL/images/kernels_and_neural_networks.png)\n",
    "\n",
    "To make this slide, we used the same neural network that was built in notebook 03_asl_cnn.ipynb, and extracted the weights from the layers. We would like to encourage you to do the same thing. Not only is this a great debugging tool with Keras, but it can also make some pretty cool images!\n",
    "**The open-ended goal of this *Next Steps* project is to learn how to visualize Keras layers.**"
   ],
   "metadata": {
    "collapsed": false,
    "pycharm": {
     "name": "#%% md\n"
    }
   }
  },
  {
   "cell_type": "markdown",
   "source": [
    "### Load the Data\n",
    "To get started, Keras has mnist built right in it. Use the command below to load it."
   ],
   "metadata": {
    "collapsed": false,
    "pycharm": {
     "name": "#%% md\n"
    }
   }
  },
  {
   "cell_type": "code",
   "execution_count": 2,
   "metadata": {
    "collapsed": true,
    "pycharm": {
     "name": "#%%\n"
    }
   },
   "outputs": [],
   "source": [
    "import tensorflow.keras as keras\n",
    "from tensorflow.keras.datasets import mnist\n",
    "\n",
    "(x_train, y_train), (x_valid, y_valid) = mnist.load_data()\n",
    "\n",
    "# Normalize our image data\n",
    "x_train = x_train / 255\n",
    "x_valid = x_valid / 255\n",
    "x_train = x_train.reshape(-1,28,28,1)\n",
    "x_valid = x_valid.reshape(-1,28,28,1)\n",
    "\n",
    "num_categories = 10\n",
    "y_train = keras.utils.to_categorical(y_train, num_categories)\n",
    "y_valid = keras.utils.to_categorical(y_valid, num_categories)"
   ]
  },
  {
   "cell_type": "markdown",
   "source": [
    "### Build a Model\n",
    "Next, we'll build a simple model to help get started. Try modifying the model into increasingly complex models to see how this changes the images."
   ],
   "metadata": {
    "collapsed": false,
    "pycharm": {
     "name": "#%% md\n"
    }
   }
  },
  {
   "cell_type": "code",
   "execution_count": 5,
   "outputs": [
    {
     "name": "stdout",
     "output_type": "stream",
     "text": [
      "Epoch 1/5\n",
      "1875/1875 [==============================] - 15s 6ms/step - loss: 0.4775 - accuracy: 0.8597 - val_loss: 0.2805 - val_accuracy: 0.9182\n",
      "Epoch 2/5\n",
      "1875/1875 [==============================] - 9s 5ms/step - loss: 0.2895 - accuracy: 0.9173 - val_loss: 0.2560 - val_accuracy: 0.9236\n",
      "Epoch 3/5\n",
      "1875/1875 [==============================] - 12s 6ms/step - loss: 0.2653 - accuracy: 0.9250 - val_loss: 0.2552 - val_accuracy: 0.9265\n",
      "Epoch 4/5\n",
      "1875/1875 [==============================] - 11s 6ms/step - loss: 0.2516 - accuracy: 0.9284 - val_loss: 0.2499 - val_accuracy: 0.9272\n",
      "Epoch 5/5\n",
      "1875/1875 [==============================] - 11s 6ms/step - loss: 0.2415 - accuracy: 0.9323 - val_loss: 0.2273 - val_accuracy: 0.9342\n"
     ]
    },
    {
     "data": {
      "text/plain": "<keras.callbacks.History at 0x11856edae20>"
     },
     "execution_count": 5,
     "metadata": {},
     "output_type": "execute_result"
    }
   ],
   "source": [
    "from tensorflow.keras.models import Sequential\n",
    "from tensorflow.keras.layers import Dense, Conv2D, Flatten\n",
    "\n",
    "input_shape = (28, 28, 1)\n",
    "\n",
    "model = Sequential()\n",
    "model.add(Conv2D(1, (3, 3), padding=\"same\", activation=\"relu\", input_shape=input_shape))\n",
    "model.add(Flatten())\n",
    "model.add(Dense(10, activation=\"relu\"))\n",
    "model.add(Dense(units=num_categories, activation=\"softmax\"))\n",
    "model.compile(loss=\"categorical_crossentropy\", metrics=[\"accuracy\"])\n",
    "\n",
    "model.fit(x_train, y_train, epochs=5, verbose=1, validation_data=(x_valid, y_valid))"
   ],
   "metadata": {
    "collapsed": false,
    "pycharm": {
     "name": "#%%\n"
    }
   }
  },
  {
   "cell_type": "markdown",
   "source": [
    "### Get the Weights\n",
    "\n",
    "After a model trains, we can get the weights of a layer with the [get_weights](https://keras.io/api/layers/base_layer/#get_weights-method) method. Below shows a sample of how to plot the kernel trained in the Conv2D layer above. Can you figure out how to see the Dense layer? Or can you add another Conv2D layer and plot all the kernels?\n",
    "\n",
    "There are many types of model architectures. Play around and see if you can find a relationship between what the model learns and the data that is fed into it. Good luck and have fun!"
   ],
   "metadata": {
    "collapsed": false,
    "pycharm": {
     "name": "#%% md\n"
    }
   }
  },
  {
   "cell_type": "code",
   "execution_count": 9,
   "outputs": [
    {
     "data": {
      "text/plain": "<matplotlib.image.AxesImage at 0x11800ad02b0>"
     },
     "execution_count": 9,
     "metadata": {},
     "output_type": "execute_result"
    },
    {
     "data": {
      "text/plain": "<Figure size 432x288 with 1 Axes>",
      "image/png": "[encoded data removed]"
     },
     "metadata": {
      "needs_background": "light"
     },
     "output_type": "display_data"
    }
   ],
   "source": [
    "import matplotlib.pyplot as plt\n",
    "\n",
    "# Grab weights from 0th layer.\n",
    "layer_weights = model.get_weights()[0]\n",
    "# layer weights are represented by 4 dimensions. Can you figure out what each dimension represents?\n",
    "\n",
    "kernel_weights = layer_weights[:,:,0,:]\n",
    "# Uncomment to see raw\n",
    "#print(layer_weights)\n",
    "#print(kernel_weights)\n",
    "plt.imshow(kernel_weights,cmap='gray')"
   ],
   "metadata": {
    "collapsed": false,
    "pycharm": {
     "name": "#%%\n"
    }
   }
  },
  {
   "cell_type": "markdown",
   "source": [
    "## Additional Resources\n",
    "\n",
    "Can't wait to learn more? Check out these additional resources:\n",
    "\n",
    "* [Practical Deep Learning for Cloud, Mobile, and Edge](https://www.oreilly.com/library/view/practical-deep-learning/9781492034858/) - O'Reilly Book\n",
    "* [A Survey of Knowledge-Enhanced Text Generation](https://paperswithcode.com/paper/a-survey-of-knowledge-enhanced-text) - An exploration of how to include more context in text generation\n",
    "* [Illustrated: 10 CNN Architectures](https://towardsdatascience.com/illustrated-10-cnn-architectures-95d78ace614d) - A visual look into popular CNN Architectures\n",
    "* [Convolutional Neural Network (CNN)](https://developer.nvidia.com/discover/convolutional-neural-network) - An overview of CNNs"
   ],
   "metadata": {
    "collapsed": false,
    "pycharm": {
     "name": "#%% md\n"
    }
   }
  }
 ],
 "metadata": {
  "kernelspec": {
   "display_name": "Python 3",
   "language": "python",
   "name": "python3"
  },
  "language_info": {
   "codemirror_mode": {
    "name": "ipython",
    "version": 2
   },
   "file_extension": ".py",
   "mimetype": "text/x-python",
   "name": "python",
   "nbconvert_exporter": "python",
   "pygments_lexer": "ipython2",
   "version": "2.7.6"
  }
 },
 "nbformat": 4,
 "nbformat_minor": 0
}