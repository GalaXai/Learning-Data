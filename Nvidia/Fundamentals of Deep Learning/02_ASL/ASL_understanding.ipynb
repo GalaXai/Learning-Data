{
 "cells": [
  {
   "cell_type": "markdown",
   "source": [
    "# Image Classification of an American Sign Language Dataset"
   ],
   "metadata": {
    "collapsed": false,
    "pycharm": {
     "name": "#%% md\n"
    }
   }
  },
  {
   "cell_type": "markdown",
   "source": [
    "# Loading the Data\n",
    "Dataset is in CSV format. To load and work with the data, we'll be using Pandas library."
   ],
   "metadata": {
    "collapsed": false,
    "pycharm": {
     "name": "#%% md\n"
    }
   }
  },
  {
   "cell_type": "markdown",
   "source": [],
   "metadata": {
    "collapsed": false,
    "pycharm": {
     "name": "#%% md\n"
    }
   }
  },
  {
   "cell_type": "code",
   "execution_count": 6,
   "metadata": {
    "collapsed": true,
    "pycharm": {
     "name": "#%%\n"
    }
   },
   "outputs": [],
   "source": [
    "import pandas as pd\n",
    "training_df = pd.read_csv(\"data/asl_data/sign_mnist_train.csv\")\n",
    "validation_df = pd.read_csv(\"data/asl_data/sign_mnist_valid.csv\")"
   ]
  },
  {
   "cell_type": "markdown",
   "source": [
    "# Exploring the data"
   ],
   "metadata": {
    "collapsed": false,
    "pycharm": {
     "name": "#%% md\n"
    }
   }
  },
  {
   "cell_type": "code",
   "execution_count": 7,
   "outputs": [
    {
     "data": {
      "text/plain": "   label  pixel1  pixel2  pixel3  pixel4  pixel5  pixel6  pixel7  pixel8  \\\n0      3     107     118     127     134     139     143     146     150   \n1      6     155     157     156     156     156     157     156     158   \n2      2     187     188     188     187     187     186     187     188   \n3      2     211     211     212     212     211     210     211     210   \n4     12     164     167     170     172     176     179     180     184   \n\n   pixel9  ...  pixel775  pixel776  pixel777  pixel778  pixel779  pixel780  \\\n0     153  ...       207       207       207       207       206       206   \n1     158  ...        69       149       128        87        94       163   \n2     187  ...       202       201       200       199       198       199   \n3     210  ...       235       234       233       231       230       226   \n4     185  ...        92       105       105       108       133       163   \n\n   pixel781  pixel782  pixel783  pixel784  \n0       206       204       203       202  \n1       175       103       135       149  \n2       198       195       194       195  \n3       225       222       229       163  \n4       157       163       164       179  \n\n[5 rows x 785 columns]",
      "text/html": "<div>\n<style scoped>\n    .dataframe tbody tr th:only-of-type {\n        vertical-align: middle;\n    }\n\n    .dataframe tbody tr th {\n        vertical-align: top;\n    }\n\n    .dataframe thead th {\n        text-align: right;\n    }\n</style>\n<table border=\"1\" class=\"dataframe\">\n  <thead>\n    <tr style=\"text-align: right;\">\n      <th></th>\n      <th>label</th>\n      <th>pixel1</th>\n      <th>pixel2</th>\n      <th>pixel3</th>\n      <th>pixel4</th>\n      <th>pixel5</th>\n      <th>pixel6</th>\n      <th>pixel7</th>\n      <th>pixel8</th>\n      <th>pixel9</th>\n      <th>...</th>\n      <th>pixel775</th>\n      <th>pixel776</th>\n      <th>pixel777</th>\n      <th>pixel778</th>\n      <th>pixel779</th>\n      <th>pixel780</th>\n      <th>pixel781</th>\n      <th>pixel782</th>\n      <th>pixel783</th>\n      <th>pixel784</th>\n    </tr>\n  </thead>\n  <tbody>\n    <tr>\n      <th>0</th>\n      <td>3</td>\n      <td>107</td>\n      <td>118</td>\n      <td>127</td>\n      <td>134</td>\n      <td>139</td>\n      <td>143</td>\n      <td>146</td>\n      <td>150</td>\n      <td>153</td>\n      <td>...</td>\n      <td>207</td>\n      <td>207</td>\n      <td>207</td>\n      <td>207</td>\n      <td>206</td>\n      <td>206</td>\n      <td>206</td>\n      <td>204</td>\n      <td>203</td>\n      <td>202</td>\n    </tr>\n    <tr>\n      <th>1</th>\n      <td>6</td>\n      <td>155</td>\n      <td>157</td>\n      <td>156</td>\n      <td>156</td>\n      <td>156</td>\n      <td>157</td>\n      <td>156</td>\n      <td>158</td>\n      <td>158</td>\n      <td>...</td>\n      <td>69</td>\n      <td>149</td>\n      <td>128</td>\n      <td>87</td>\n      <td>94</td>\n      <td>163</td>\n      <td>175</td>\n      <td>103</td>\n      <td>135</td>\n      <td>149</td>\n    </tr>\n    <tr>\n      <th>2</th>\n      <td>2</td>\n      <td>187</td>\n      <td>188</td>\n      <td>188</td>\n      <td>187</td>\n      <td>187</td>\n      <td>186</td>\n      <td>187</td>\n      <td>188</td>\n      <td>187</td>\n      <td>...</td>\n      <td>202</td>\n      <td>201</td>\n      <td>200</td>\n      <td>199</td>\n      <td>198</td>\n      <td>199</td>\n      <td>198</td>\n      <td>195</td>\n      <td>194</td>\n      <td>195</td>\n    </tr>\n    <tr>\n      <th>3</th>\n      <td>2</td>\n      <td>211</td>\n      <td>211</td>\n      <td>212</td>\n      <td>212</td>\n      <td>211</td>\n      <td>210</td>\n      <td>211</td>\n      <td>210</td>\n      <td>210</td>\n      <td>...</td>\n      <td>235</td>\n      <td>234</td>\n      <td>233</td>\n      <td>231</td>\n      <td>230</td>\n      <td>226</td>\n      <td>225</td>\n      <td>222</td>\n      <td>229</td>\n      <td>163</td>\n    </tr>\n    <tr>\n      <th>4</th>\n      <td>12</td>\n      <td>164</td>\n      <td>167</td>\n      <td>170</td>\n      <td>172</td>\n      <td>176</td>\n      <td>179</td>\n      <td>180</td>\n      <td>184</td>\n      <td>185</td>\n      <td>...</td>\n      <td>92</td>\n      <td>105</td>\n      <td>105</td>\n      <td>108</td>\n      <td>133</td>\n      <td>163</td>\n      <td>157</td>\n      <td>163</td>\n      <td>164</td>\n      <td>179</td>\n    </tr>\n  </tbody>\n</table>\n<p>5 rows × 785 columns</p>\n</div>"
     },
     "execution_count": 7,
     "metadata": {},
     "output_type": "execute_result"
    }
   ],
   "source": [
    "training_df.head()"
   ],
   "metadata": {
    "collapsed": false,
    "pycharm": {
     "name": "#%%\n"
    }
   }
  },
  {
   "cell_type": "code",
   "execution_count": 8,
   "outputs": [],
   "source": [
    "y_train = training_df['label']\n",
    "y_valid = validation_df['label']\n",
    "\n",
    "del training_df['label']\n",
    "del validation_df['label']"
   ],
   "metadata": {
    "collapsed": false,
    "pycharm": {
     "name": "#%%\n"
    }
   }
  },
  {
   "cell_type": "markdown",
   "source": [
    "# Extracting the Images"
   ],
   "metadata": {
    "collapsed": false,
    "pycharm": {
     "name": "#%% md\n"
    }
   }
  },
  {
   "cell_type": "code",
   "execution_count": 9,
   "outputs": [],
   "source": [
    "x_train = training_df.values\n",
    "x_valid = validation_df.values"
   ],
   "metadata": {
    "collapsed": false,
    "pycharm": {
     "name": "#%%\n"
    }
   }
  },
  {
   "cell_type": "markdown",
   "source": [
    "# Summarizing the Training and Validation Data"
   ],
   "metadata": {
    "collapsed": false,
    "pycharm": {
     "name": "#%% md\n"
    }
   }
  },
  {
   "cell_type": "code",
   "execution_count": 10,
   "outputs": [
    {
     "data": {
      "text/plain": "((27455, 784), (27455,), (7172, 784), (7172,))"
     },
     "execution_count": 10,
     "metadata": {},
     "output_type": "execute_result"
    }
   ],
   "source": [
    "x_train.shape, y_train.shape , x_valid.shape, y_valid.shape"
   ],
   "metadata": {
    "collapsed": false,
    "pycharm": {
     "name": "#%%\n"
    }
   }
  },
  {
   "cell_type": "code",
   "execution_count": 11,
   "outputs": [
    {
     "data": {
      "text/plain": "array([107, 118, 127, 134, 139, 143, 146, 150, 153, 156, 158, 160, 163,\n       165, 159, 166, 168, 170, 170, 171, 171, 171, 172, 171, 171, 170,\n       170, 169, 111, 121, 129, 135, 141, 144, 148, 151, 154, 157, 160,\n       163, 164, 170, 119, 152, 171, 171, 170, 171, 172, 172, 172, 172,\n       172, 171, 171, 170, 113, 123, 131, 137, 142, 145, 150, 152, 155,\n       158, 161, 163, 164, 172, 105, 142, 170, 171, 171, 171, 172, 172,\n       173, 173, 172, 171, 171, 171, 116, 125, 133, 139, 143, 146, 151,\n       153, 156, 159, 162, 163, 167, 167,  95, 144, 171, 172, 172, 172,\n       172, 172, 173, 173, 173, 172, 172, 171, 117, 126, 134, 140, 145,\n       149, 153, 156, 158, 161, 163, 164, 175, 156,  87, 154, 172, 173,\n       173, 173, 173, 173, 174, 174, 174, 173, 172, 172, 119, 128, 136,\n       142, 146, 150, 153, 156, 159, 163, 165, 164, 184, 148,  89, 164,\n       172, 174, 174, 174, 174, 175, 175, 174, 175, 174, 173, 173, 122,\n       130, 138, 143, 147, 150, 154, 158, 162, 165, 166, 172, 181, 128,\n        94, 170, 173, 175, 174, 175, 176, 177, 177, 177, 177, 175, 175,\n       174, 122, 132, 139, 145, 149, 152, 156, 160, 163, 165, 166, 181,\n       172, 103, 113, 175, 176, 178, 178, 179, 179, 179, 179, 178, 179,\n       177, 175, 174, 125, 134, 141, 147, 150, 153, 157, 161, 164, 167,\n       168, 184, 179, 116, 126, 165, 176, 179, 180, 180, 181, 180, 180,\n       180, 179, 178, 177, 176, 128, 135, 142, 148, 152, 154, 158, 162,\n       165, 168, 170, 187, 180, 156, 161, 124, 143, 179, 178, 178, 181,\n       182, 181, 180, 181, 180, 179, 179, 129, 136, 144, 150, 153, 155,\n       159, 163, 166, 169, 172, 187, 184, 153, 102, 117, 110, 175, 169,\n       154, 182, 183, 183, 182, 182, 181, 181, 179, 131, 138, 145, 150,\n       155, 157, 161, 165, 168, 174, 190, 189, 175, 146,  94,  97, 113,\n       151, 158, 129, 184, 184, 184, 184, 183, 183, 182, 180, 131, 139,\n       146, 151, 155, 159, 163, 167, 175, 182, 179, 171, 159, 114, 102,\n        89, 121, 136, 136,  96, 172, 186, 186, 185, 185, 184, 182, 181,\n       131, 140, 147, 154, 157, 160, 164, 179, 186, 191, 187, 180, 157,\n       100,  88,  84, 108, 111, 126,  90, 120, 186, 187, 187, 186, 185,\n       184, 182, 133, 141, 149, 155, 158, 160, 174, 201, 189, 165, 151,\n       143, 146, 120,  87,  78,  87,  76, 108,  98,  96, 181, 188, 187,\n       186, 186, 185, 183, 133, 141, 150, 156, 160, 161, 179, 197, 174,\n       135,  99,  72,  95, 134,  97,  72,  74,  68, 116, 105, 108, 187,\n       189, 187, 187, 186, 186, 185, 134, 143, 151, 156, 161, 163, 179,\n       194, 156, 110,  74,  42,  52, 139,  94,  67,  75,  75, 118, 106,\n       129, 189, 191, 190, 188, 188, 187, 186, 135, 144, 152, 158, 163,\n       163, 177, 193, 161, 122,  84,  43,  71, 134,  81,  57,  71,  88,\n       112,  98, 157, 193, 193, 192, 190, 190, 189, 188, 136, 144, 152,\n       158, 162, 163, 176, 192, 164, 128,  98,  62,  60, 100,  71,  76,\n        96, 101, 105,  95, 174, 195, 194, 194, 194, 193, 191, 190, 137,\n       145, 152, 159, 164, 165, 178, 191, 164, 135, 113,  82,  59,  87,\n        98, 111, 120, 108,  97, 108, 190, 196, 195, 195, 194, 193, 193,\n       192, 139, 146, 154, 160, 164, 165, 175, 186, 163, 139, 112,  85,\n        67, 102, 126, 133, 126, 105, 104, 176, 197, 198, 197, 196, 195,\n       195, 194, 193, 138, 147, 155, 161, 165, 167, 172, 186, 163, 137,\n       107,  87,  76, 106, 122, 125, 117,  96, 156, 199, 199, 200, 198,\n       196, 196, 195, 195, 194, 139, 148, 156, 163, 166, 168, 172, 180,\n       158, 131, 108,  99,  86, 108, 118, 116, 103, 107, 191, 202, 201,\n       200, 200, 200, 199, 197, 198, 196, 140, 149, 157, 164, 168, 167,\n       177, 178, 155, 131, 118, 105,  87, 100, 106, 100,  96, 164, 202,\n       202, 202, 202, 202, 201, 200, 199, 199, 198, 140, 150, 157, 165,\n       167, 170, 181, 175, 152, 130, 115,  98,  82,  85,  90,  99, 165,\n       202, 203, 204, 203, 203, 202, 202, 201, 201, 200, 200, 142, 150,\n       159, 165, 170, 191, 173, 157, 144, 119,  97,  84,  79,  79,  91,\n       172, 202, 203, 203, 205, 204, 204, 204, 203, 202, 202, 201, 200,\n       142, 151, 160, 165, 188, 190, 187, 150, 119, 109,  85,  79,  79,\n        78, 137, 203, 205, 206, 206, 207, 207, 206, 206, 204, 205, 204,\n       203, 202, 142, 151, 160, 172, 196, 188, 188, 190, 135,  96,  86,\n        77,  77,  79, 176, 205, 207, 207, 207, 207, 207, 207, 206, 206,\n       206, 204, 203, 202], dtype=int64)"
     },
     "execution_count": 11,
     "metadata": {},
     "output_type": "execute_result"
    }
   ],
   "source": [
    "x_train[0]"
   ],
   "metadata": {
    "collapsed": false,
    "pycharm": {
     "name": "#%%\n"
    }
   }
  },
  {
   "cell_type": "markdown",
   "source": [
    "# Visualizing the Data\n",
    "We need to represent 1D shape of 784 pixel, to a 2D shape of 28x28, same as with mnist data we need to reshape data"
   ],
   "metadata": {
    "collapsed": false,
    "pycharm": {
     "name": "#%% md\n"
    }
   }
  },
  {
   "cell_type": "code",
   "execution_count": 12,
   "outputs": [
    {
     "data": {
      "text/plain": "<Figure size 2880x2880 with 10 Axes>",
      "image/png": "[encoded data removed]"
     },
     "metadata": {
      "needs_background": "light"
     },
     "output_type": "display_data"
    }
   ],
   "source": [
    "import matplotlib.pyplot as plt\n",
    "plt.figure(figsize=(40, 40))\n",
    "num_images = 10\n",
    "for i in range(num_images):\n",
    "    row = x_train[i]\n",
    "    label = y_train[i]\n",
    "\n",
    "    image = row.reshape(28,28)\n",
    "    plt.subplot(1,num_images+1,i+1) # Show more than one image\n",
    "    plt.title(label, fontdict = {'fontsize': 30})\n",
    "    plt.axis('off')\n",
    "    plt.imshow(image, cmap = 'gray')"
   ],
   "metadata": {
    "collapsed": false,
    "pycharm": {
     "name": "#%%\n"
    }
   }
  },
  {
   "cell_type": "markdown",
   "source": [
    "# Normalize the Image Data"
   ],
   "metadata": {
    "collapsed": false,
    "pycharm": {
     "name": "#%% md\n"
    }
   }
  },
  {
   "cell_type": "code",
   "execution_count": 13,
   "outputs": [
    {
     "data": {
      "text/plain": "(0, 255)"
     },
     "execution_count": 13,
     "metadata": {},
     "output_type": "execute_result"
    }
   ],
   "source": [
    "x_train.min(), x_train.max()"
   ],
   "metadata": {
    "collapsed": false,
    "pycharm": {
     "name": "#%%\n"
    }
   }
  },
  {
   "cell_type": "code",
   "execution_count": 14,
   "outputs": [],
   "source": [
    "x_train = x_train / 255\n",
    "x_valid = x_valid / 255"
   ],
   "metadata": {
    "collapsed": false,
    "pycharm": {
     "name": "#%%\n"
    }
   }
  },
  {
   "cell_type": "markdown",
   "source": [
    "# Categorize the Labels"
   ],
   "metadata": {
    "collapsed": false,
    "pycharm": {
     "name": "#%% md\n"
    }
   }
  },
  {
   "cell_type": "code",
   "execution_count": 15,
   "outputs": [
    {
     "data": {
      "text/plain": "(0, 23)"
     },
     "execution_count": 15,
     "metadata": {},
     "output_type": "execute_result"
    }
   ],
   "source": [
    "y_train.min(), y_train.max()"
   ],
   "metadata": {
    "collapsed": false,
    "pycharm": {
     "name": "#%%\n"
    }
   }
  },
  {
   "cell_type": "code",
   "execution_count": 16,
   "outputs": [
    {
     "data": {
      "text/plain": "array([[0., 0., 0., 1., 0., 0., 0., 0., 0., 0., 0., 0., 0., 0., 0., 0.,\n        0., 0., 0., 0., 0., 0., 0., 0.],\n       [0., 0., 0., 0., 0., 0., 1., 0., 0., 0., 0., 0., 0., 0., 0., 0.,\n        0., 0., 0., 0., 0., 0., 0., 0.],\n       [0., 0., 1., 0., 0., 0., 0., 0., 0., 0., 0., 0., 0., 0., 0., 0.,\n        0., 0., 0., 0., 0., 0., 0., 0.],\n       [0., 0., 1., 0., 0., 0., 0., 0., 0., 0., 0., 0., 0., 0., 0., 0.,\n        0., 0., 0., 0., 0., 0., 0., 0.],\n       [0., 0., 0., 0., 0., 0., 0., 0., 0., 0., 0., 0., 1., 0., 0., 0.,\n        0., 0., 0., 0., 0., 0., 0., 0.],\n       [0., 0., 0., 0., 0., 0., 0., 0., 0., 0., 0., 0., 0., 0., 0., 1.,\n        0., 0., 0., 0., 0., 0., 0., 0.],\n       [0., 0., 0., 0., 0., 0., 0., 0., 1., 0., 0., 0., 0., 0., 0., 0.,\n        0., 0., 0., 0., 0., 0., 0., 0.],\n       [0., 0., 0., 0., 0., 0., 0., 0., 0., 0., 0., 0., 0., 0., 0., 0.,\n        0., 0., 0., 0., 0., 1., 0., 0.],\n       [0., 0., 0., 1., 0., 0., 0., 0., 0., 0., 0., 0., 0., 0., 0., 0.,\n        0., 0., 0., 0., 0., 0., 0., 0.],\n       [0., 0., 0., 1., 0., 0., 0., 0., 0., 0., 0., 0., 0., 0., 0., 0.,\n        0., 0., 0., 0., 0., 0., 0., 0.],\n       [0., 0., 0., 0., 0., 0., 0., 0., 0., 0., 0., 0., 0., 0., 0., 0.,\n        0., 1., 0., 0., 0., 0., 0., 0.],\n       [0., 0., 0., 0., 0., 0., 0., 0., 0., 1., 0., 0., 0., 0., 0., 0.,\n        0., 0., 0., 0., 0., 0., 0., 0.],\n       [0., 0., 0., 0., 0., 0., 0., 0., 0., 0., 0., 0., 0., 0., 0., 1.,\n        0., 0., 0., 0., 0., 0., 0., 0.],\n       [0., 0., 0., 0., 0., 0., 0., 0., 0., 0., 0., 0., 0., 0., 0., 0.,\n        0., 0., 0., 0., 0., 1., 0., 0.],\n       [0., 0., 0., 0., 0., 0., 0., 0., 0., 0., 0., 0., 0., 0., 0., 0.,\n        0., 0., 0., 1., 0., 0., 0., 0.],\n       [0., 0., 0., 0., 0., 0., 0., 0., 0., 0., 0., 0., 0., 0., 0., 1.,\n        0., 0., 0., 0., 0., 0., 0., 0.],\n       [0., 0., 0., 0., 0., 0., 0., 0., 0., 0., 0., 0., 0., 0., 0., 0.,\n        1., 0., 0., 0., 0., 0., 0., 0.],\n       [0., 0., 0., 0., 0., 0., 0., 0., 0., 0., 0., 0., 1., 0., 0., 0.,\n        0., 0., 0., 0., 0., 0., 0., 0.],\n       [0., 0., 0., 0., 0., 0., 0., 0., 0., 0., 0., 0., 1., 0., 0., 0.,\n        0., 0., 0., 0., 0., 0., 0., 0.],\n       [0., 0., 0., 0., 0., 0., 0., 0., 0., 0., 0., 0., 0., 0., 0., 0.,\n        0., 0., 1., 0., 0., 0., 0., 0.],\n       [0., 0., 0., 0., 0., 0., 0., 0., 0., 0., 0., 0., 0., 0., 0., 0.,\n        0., 1., 0., 0., 0., 0., 0., 0.],\n       [0., 0., 0., 0., 0., 0., 0., 0., 0., 0., 0., 0., 0., 0., 0., 0.,\n        0., 0., 0., 0., 1., 0., 0., 0.],\n       [0., 0., 0., 0., 0., 0., 0., 0., 0., 0., 0., 0., 0., 0., 0., 1.,\n        0., 0., 0., 0., 0., 0., 0., 0.]], dtype=float32)"
     },
     "execution_count": 16,
     "metadata": {},
     "output_type": "execute_result"
    }
   ],
   "source": [
    "import tensorflow.keras as keras\n",
    "num_classes = 24\n",
    "y_train = keras.utils.to_categorical(y_train, num_classes)\n",
    "y_valid = keras.utils.to_categorical(y_valid, num_classes)\n",
    "y_train[0:23]"
   ],
   "metadata": {
    "collapsed": false,
    "pycharm": {
     "name": "#%%\n"
    }
   }
  },
  {
   "cell_type": "markdown",
   "source": [
    "# Creating the Model"
   ],
   "metadata": {
    "collapsed": false,
    "pycharm": {
     "name": "#%% md\n"
    }
   }
  },
  {
   "cell_type": "code",
   "execution_count": 17,
   "outputs": [
    {
     "name": "stdout",
     "output_type": "stream",
     "text": [
      "Model: \"sequential\"\n",
      "_________________________________________________________________\n",
      " Layer (type)                Output Shape              Param #   \n",
      "=================================================================\n",
      " dense (Dense)               (None, 512)               401920    \n",
      "                                                                 \n",
      " dense_1 (Dense)             (None, 512)               262656    \n",
      "                                                                 \n",
      " dense_2 (Dense)             (None, 24)                12312     \n",
      "                                                                 \n",
      "=================================================================\n",
      "Total params: 676,888\n",
      "Trainable params: 676,888\n",
      "Non-trainable params: 0\n",
      "_________________________________________________________________\n"
     ]
    }
   ],
   "source": [
    "from tensorflow.keras.models import Sequential\n",
    "from tensorflow.keras.layers import Dense\n",
    "\n",
    "model = Sequential()\n",
    "model.add(Dense(units = 512, activation = 'relu', input_shape=(784,)))\n",
    "model.add(Dense(units = 512, activation = 'relu'))\n",
    "model.add(Dense(units = 24, activation = 'softmax'))\n",
    "model.summary()\n"
   ],
   "metadata": {
    "collapsed": false,
    "pycharm": {
     "name": "#%%\n"
    }
   }
  },
  {
   "cell_type": "markdown",
   "source": [
    "# Compiling the Model"
   ],
   "metadata": {
    "collapsed": false,
    "pycharm": {
     "name": "#%% md\n"
    }
   }
  },
  {
   "cell_type": "code",
   "execution_count": 18,
   "outputs": [
    {
     "name": "stdout",
     "output_type": "stream",
     "text": [
      "Epoch 1/20\n",
      "858/858 [==============================] - 14s 13ms/step - loss: 1.9572 - accuracy: 0.3823 - val_loss: 1.3395 - val_accuracy: 0.5325\n",
      "Epoch 2/20\n",
      "858/858 [==============================] - 13s 15ms/step - loss: 0.9524 - accuracy: 0.6786 - val_loss: 1.1470 - val_accuracy: 0.6534\n",
      "Epoch 3/20\n",
      "858/858 [==============================] - 11s 13ms/step - loss: 0.5903 - accuracy: 0.8035 - val_loss: 1.1568 - val_accuracy: 0.6919\n",
      "Epoch 4/20\n",
      "858/858 [==============================] - 11s 12ms/step - loss: 0.3909 - accuracy: 0.8726 - val_loss: 0.8741 - val_accuracy: 0.7430\n",
      "Epoch 5/20\n",
      "858/858 [==============================] - 10s 12ms/step - loss: 0.2909 - accuracy: 0.9129 - val_loss: 0.7514 - val_accuracy: 0.8233\n",
      "Epoch 6/20\n",
      "858/858 [==============================] - 10s 11ms/step - loss: 0.2444 - accuracy: 0.9341 - val_loss: 3.2333 - val_accuracy: 0.5735\n",
      "Epoch 7/20\n",
      "858/858 [==============================] - 10s 12ms/step - loss: 0.2194 - accuracy: 0.9477 - val_loss: 1.2710 - val_accuracy: 0.7805\n",
      "Epoch 8/20\n",
      "858/858 [==============================] - 10s 11ms/step - loss: 0.1968 - accuracy: 0.9515 - val_loss: 1.3599 - val_accuracy: 0.7659\n",
      "Epoch 9/20\n",
      "858/858 [==============================] - 10s 11ms/step - loss: 0.2005 - accuracy: 0.9567 - val_loss: 0.9666 - val_accuracy: 0.8360\n",
      "Epoch 10/20\n",
      "858/858 [==============================] - 10s 12ms/step - loss: 0.1936 - accuracy: 0.9602 - val_loss: 1.0950 - val_accuracy: 0.8314\n",
      "Epoch 11/20\n",
      "858/858 [==============================] - 10s 12ms/step - loss: 0.1791 - accuracy: 0.9645 - val_loss: 1.3931 - val_accuracy: 0.7949\n",
      "Epoch 12/20\n",
      "858/858 [==============================] - 10s 11ms/step - loss: 0.1691 - accuracy: 0.9652 - val_loss: 1.7327 - val_accuracy: 0.7798\n",
      "Epoch 13/20\n",
      "858/858 [==============================] - 10s 12ms/step - loss: 0.1551 - accuracy: 0.9695 - val_loss: 1.1851 - val_accuracy: 0.8215\n",
      "Epoch 14/20\n",
      "858/858 [==============================] - 10s 12ms/step - loss: 0.1560 - accuracy: 0.9725 - val_loss: 1.4756 - val_accuracy: 0.8203\n",
      "Epoch 15/20\n",
      "858/858 [==============================] - 10s 12ms/step - loss: 0.1484 - accuracy: 0.9738 - val_loss: 1.2760 - val_accuracy: 0.8385\n",
      "Epoch 16/20\n",
      "858/858 [==============================] - 10s 12ms/step - loss: 0.1585 - accuracy: 0.9746 - val_loss: 1.2602 - val_accuracy: 0.8452\n",
      "Epoch 17/20\n",
      "858/858 [==============================] - 10s 11ms/step - loss: 0.1345 - accuracy: 0.9765 - val_loss: 2.0078 - val_accuracy: 0.8016\n",
      "Epoch 18/20\n",
      "858/858 [==============================] - 10s 12ms/step - loss: 0.1236 - accuracy: 0.9769 - val_loss: 1.6417 - val_accuracy: 0.8158\n",
      "Epoch 19/20\n",
      "858/858 [==============================] - 10s 12ms/step - loss: 0.1370 - accuracy: 0.9758 - val_loss: 3.7402 - val_accuracy: 0.7457\n",
      "Epoch 20/20\n",
      "858/858 [==============================] - 10s 12ms/step - loss: 0.1378 - accuracy: 0.9772 - val_loss: 1.9342 - val_accuracy: 0.8133\n"
     ]
    },
    {
     "data": {
      "text/plain": "<keras.callbacks.History at 0x26aa12e1bb0>"
     },
     "execution_count": 18,
     "metadata": {},
     "output_type": "execute_result"
    }
   ],
   "source": [
    "model.compile(loss = 'categorical_crossentropy', metrics = ['accuracy'])\n",
    "\n",
    "model.fit(\n",
    "    x_train,y_train, epochs=20, verbose=1, validation_data=(x_valid,y_valid))"
   ],
   "metadata": {
    "collapsed": false,
    "pycharm": {
     "name": "#%%\n"
    }
   }
  },
  {
   "cell_type": "markdown",
   "source": [
    "# Summary\n",
    "We can see that the training accuracy got to a high level, but validation accuracy was not as high.\n",
    "This is an example of the model learning to categorize the training data, but performing poorly against new data that has not been trained on. This is a common issue called `overfitting`."
   ],
   "metadata": {
    "collapsed": false,
    "pycharm": {
     "name": "#%% md\n"
    }
   }
  }
 ],
 "metadata": {
  "kernelspec": {
   "display_name": "Python 3",
   "language": "python",
   "name": "python3"
  },
  "language_info": {
   "codemirror_mode": {
    "name": "ipython",
    "version": 2
   },
   "file_extension": ".py",
   "mimetype": "text/x-python",
   "name": "python",
   "nbconvert_exporter": "python",
   "pygments_lexer": "ipython2",
   "version": "2.7.6"
  }
 },
 "nbformat": 4,
 "nbformat_minor": 0
}