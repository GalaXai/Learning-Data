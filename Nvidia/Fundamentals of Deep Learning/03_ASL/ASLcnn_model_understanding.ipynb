{
 "cells": [
  {
   "cell_type": "markdown",
   "source": [
    "# Our Model\n",
    "<img src=\"images/cnn.png\" width = 180 />"
   ],
   "metadata": {
    "collapsed": false,
    "pycharm": {
     "name": "#%% md\n"
    }
   }
  },
  {
   "cell_type": "markdown",
   "source": [
    "# Input\n",
    "<img src=\"images/input.png\"/>\n",
    "\n",
    "It's a Cuboid with 1x28x28 size\n",
    "\n",
    "```python\n",
    "x_train.shape()\n",
    "(27455, 28, 28, 1)\n",
    "```"
   ],
   "metadata": {
    "collapsed": false,
    "pycharm": {
     "name": "#%% md\n"
    }
   }
  },
  {
   "cell_type": "markdown",
   "source": [
    "# Convolution\n",
    "\n",
    "<img src=\"images/conv2d.png\">\n",
    "\n",
    "```python\n",
    "model.add(Conv2D(75,(3, 3),strides=1, padding=\"same\", input_shape(28,28,1)))\n",
    "model.add(Conv2D(50,(3, 3),strides=1, padding=\"same\"))\n",
    "```\n",
    "Early convolutions in model detect simple features as lines. Later convolutions will detect more complex features.\n",
    "`75/50` refers to number of filters that will be learned, `(3, 3)` refers to sie of those filters. `Strides` refer to step size that will take as it passes over the images. `Padding` refers to whether the output image that's created from the filter will match input image. `Input_shape` declares what size of input model will take.\n"
   ],
   "metadata": {
    "collapsed": false,
    "pycharm": {
     "name": "#%% md\n"
    }
   }
  },
  {
   "cell_type": "markdown",
   "source": [
    "# Max Pooling\n",
    "\n",
    "<img src=\"images/maxpool2d.png\">\n",
    "\n",
    "```python\n",
    "model.add(MaxPool2D((2, 2), strides = 2, padding =\"same\"))\n",
    "```\n",
    "\n",
    "Max pooling takes an image and essentially shrinks it to lower resolution. It does this to help the model be robust, to translation(object move to side) and also makes our model faster.\n",
    "`Strides` parameter says how far the window should move on each step, and `padding` describes how we handle the pixel at the edges of the input\n"
   ],
   "metadata": {
    "collapsed": false,
    "pycharm": {
     "name": "#%% md\n"
    }
   }
  },
  {
   "cell_type": "markdown",
   "source": [
    "# Dropout\n",
    "\n",
    "<img src=\"images/dropout.png\">\n",
    "\n",
    "Dropout randomly selects a subset of neurons and turns them off, so that they don't participate in forward or backwards propagation in this particular pass. This helps to make sure that the network is robust and redundant, and does not rely on any one area to come up with answers."
   ],
   "metadata": {
    "collapsed": false,
    "pycharm": {
     "name": "#%% md\n"
    }
   }
  },
  {
   "cell_type": "markdown",
   "source": [
    "# Flatten\n",
    "```python\n",
    "model = tf.keras.Sequential()\n",
    "model.output_shape\n",
    "(None,28,28,1)\n",
    "# With Flatten\n",
    "model.add(Flatten())\n",
    "model.output_shape())\n",
    "(None,784)\n",
    "```\n",
    "\n",
    "Flatten take output of one layer which is multidimensional, and flattens it into one dimensional array. The output is called a feature vector and will be connected to the final classification layer."
   ],
   "metadata": {
    "collapsed": false,
    "pycharm": {
     "name": "#%% md\n"
    }
   }
  },
  {
   "cell_type": "markdown",
   "source": [
    "# Dense\n",
    "Our first dense layer(512 units) take the feature vector as input and learns which features will contribute to a particular classification. The second Dense layer(24 units) is the final classification layer that outputs our prediction"
   ],
   "metadata": {
    "collapsed": false,
    "pycharm": {
     "name": "#%% md\n"
    }
   }
  }
 ],
 "metadata": {
  "kernelspec": {
   "display_name": "Python 3",
   "language": "python",
   "name": "python3"
  },
  "language_info": {
   "codemirror_mode": {
    "name": "ipython",
    "version": 2
   },
   "file_extension": ".py",
   "mimetype": "text/x-python",
   "name": "python",
   "nbconvert_exporter": "python",
   "pygments_lexer": "ipython2",
   "version": "2.7.6"
  }
 },
 "nbformat": 4,
 "nbformat_minor": 0
}