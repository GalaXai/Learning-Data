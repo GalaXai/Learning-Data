{
 "cells": [
  {
   "cell_type": "markdown",
   "source": [
    "# Convolutional Neural Networks\n",
    "In previous section, our model had very high accuracy but, it did not perform nearly as well on validation dataset. This behavior of not generalizing well to non-training data is called overfitting, and in this section, we will introduce a popular kind of model called a Convolutional Neural Network that is especially good for reading images and classifying them."
   ],
   "metadata": {
    "collapsed": false,
    "pycharm": {
     "name": "#%% md\n"
    }
   }
  },
  {
   "cell_type": "markdown",
   "source": [
    "# Loading and Preparing Data"
   ],
   "metadata": {
    "collapsed": false,
    "pycharm": {
     "name": "#%% md\n"
    }
   }
  },
  {
   "cell_type": "code",
   "execution_count": 17,
   "metadata": {
    "collapsed": true,
    "pycharm": {
     "name": "#%%\n"
    }
   },
   "outputs": [],
   "source": [
    "import tensorflow.keras as keras\n",
    "import pandas as pd\n",
    "\n",
    "train_df = pd.read_csv('data/asl_data/sign_mnist_train.csv')\n",
    "valid_df = pd.read_csv('data/asl_data/sign_mnist_valid.csv')\n",
    "\n",
    "y_train = train_df['label']\n",
    "y_valid = valid_df['label']\n",
    "\n",
    "del train_df['label']\n",
    "del valid_df['label']\n",
    "\n",
    "x_train = train_df.values\n",
    "x_valid = valid_df.values\n",
    "\n",
    "\n",
    "num_classes = 24\n",
    "y_train = keras.utils.to_categorical(y_train, num_classes)\n",
    "y_valid = keras.utils.to_categorical(y_valid, num_classes)\n",
    "\n",
    "x_train = x_train/255\n",
    "x_valid = x_valid/255"
   ]
  },
  {
   "cell_type": "markdown",
   "source": [
    "# Reshaping Images for CNN"
   ],
   "metadata": {
    "collapsed": false,
    "pycharm": {
     "name": "#%% md\n"
    }
   }
  },
  {
   "cell_type": "code",
   "execution_count": 18,
   "outputs": [
    {
     "data": {
      "text/plain": "((27455, 784), (7172, 784), (27455, 24), (7172, 24))"
     },
     "execution_count": 18,
     "metadata": {},
     "output_type": "execute_result"
    }
   ],
   "source": [
    "x_train.shape, x_valid.shape, y_train.shape, y_valid.shape"
   ],
   "metadata": {
    "collapsed": false,
    "pycharm": {
     "name": "#%%\n"
    }
   }
  },
  {
   "cell_type": "code",
   "execution_count": 19,
   "outputs": [],
   "source": [
    "x_train = x_train.reshape(-1,28,28,1)\n",
    "x_valid = x_valid.reshape(-1,28,28,1)"
   ],
   "metadata": {
    "collapsed": false,
    "pycharm": {
     "name": "#%%\n"
    }
   }
  },
  {
   "cell_type": "markdown",
   "source": [
    "# Creating a Convolutional Model"
   ],
   "metadata": {
    "collapsed": false,
    "pycharm": {
     "name": "#%% md\n"
    }
   }
  },
  {
   "cell_type": "code",
   "execution_count": 20,
   "outputs": [
    {
     "name": "stdout",
     "output_type": "stream",
     "text": [
      "Model: \"sequential_3\"\n",
      "_________________________________________________________________\n",
      " Layer (type)                Output Shape              Param #   \n",
      "=================================================================\n",
      " conv2d_7 (Conv2D)           (None, 28, 28, 75)        750       \n",
      "                                                                 \n",
      " batch_normalization_7 (Batc  (None, 28, 28, 75)       300       \n",
      " hNormalization)                                                 \n",
      "                                                                 \n",
      " max_pooling2d_7 (MaxPooling  (None, 14, 14, 75)       0         \n",
      " 2D)                                                             \n",
      "                                                                 \n",
      " conv2d_8 (Conv2D)           (None, 14, 14, 50)        33800     \n",
      "                                                                 \n",
      " dropout_4 (Dropout)         (None, 14, 14, 50)        0         \n",
      "                                                                 \n",
      " batch_normalization_8 (Batc  (None, 14, 14, 50)       200       \n",
      " hNormalization)                                                 \n",
      "                                                                 \n",
      " max_pooling2d_8 (MaxPooling  (None, 7, 7, 50)         0         \n",
      " 2D)                                                             \n",
      "                                                                 \n",
      " conv2d_9 (Conv2D)           (None, 7, 7, 25)          11275     \n",
      "                                                                 \n",
      " batch_normalization_9 (Batc  (None, 7, 7, 25)         100       \n",
      " hNormalization)                                                 \n",
      "                                                                 \n",
      " max_pooling2d_9 (MaxPooling  (None, 4, 4, 25)         0         \n",
      " 2D)                                                             \n",
      "                                                                 \n",
      " flatten_2 (Flatten)         (None, 400)               0         \n",
      "                                                                 \n",
      " dense_4 (Dense)             (None, 512)               205312    \n",
      "                                                                 \n",
      " dropout_5 (Dropout)         (None, 512)               0         \n",
      "                                                                 \n",
      " dense_5 (Dense)             (None, 24)                12312     \n",
      "                                                                 \n",
      "=================================================================\n",
      "Total params: 264,049\n",
      "Trainable params: 263,749\n",
      "Non-trainable params: 300\n",
      "_________________________________________________________________\n"
     ]
    }
   ],
   "source": [
    "from tensorflow.keras.models import Sequential\n",
    "from tensorflow.keras.layers import (\n",
    "    Dense,\n",
    "    Conv2D,\n",
    "    MaxPool2D,\n",
    "    Flatten,\n",
    "    Dropout,\n",
    "    BatchNormalization\n",
    ")\n",
    "\n",
    "model = Sequential()\n",
    "model.add(Conv2D(75, (3, 3), strides = 1, padding =\"same\", activation =\"relu\", input_shape =(28,28,1)))\n",
    "model.add(BatchNormalization())\n",
    "model.add(MaxPool2D((2, 2), strides = 2, padding = \"same\"))\n",
    "model.add(Conv2D(50, (3, 3),strides =1, padding =\"same\", activation =\"relu\"))\n",
    "model.add(Dropout(0.2))\n",
    "model.add(BatchNormalization())\n",
    "model.add(MaxPool2D((2, 2), strides = 2, padding =\"same\"))\n",
    "model.add(Conv2D(25, (3, 3), strides = 1, padding =\"same\", activation =\"relu\"))\n",
    "model.add(BatchNormalization())\n",
    "model.add(MaxPool2D((2, 2), strides = 2, padding =\"same\"))\n",
    "model.add(Flatten())\n",
    "model.add(Dense(units =512, activation =\"relu\"))\n",
    "model.add(Dropout(0.3))\n",
    "model.add(Dense(units=num_classes, activation =\"softmax\"))\n",
    "\n",
    "model.summary()"
   ],
   "metadata": {
    "collapsed": false,
    "pycharm": {
     "name": "#%%\n"
    }
   }
  },
  {
   "cell_type": "markdown",
   "source": [],
   "metadata": {
    "collapsed": false,
    "pycharm": {
     "name": "#%% md\n"
    }
   }
  },
  {
   "cell_type": "code",
   "execution_count": 21,
   "outputs": [],
   "source": [
    "model.compile(loss=\"categorical_crossentropy\", metrics=[\"accuracy\"])"
   ],
   "metadata": {
    "collapsed": false,
    "pycharm": {
     "name": "#%%\n"
    }
   }
  },
  {
   "cell_type": "code",
   "execution_count": 22,
   "outputs": [
    {
     "name": "stdout",
     "output_type": "stream",
     "text": [
      "Epoch 1/10\n",
      "858/858 [==============================] - 74s 81ms/step - loss: 0.2958 - accuracy: 0.9072 - val_loss: 0.7312 - val_accuracy: 0.8073\n",
      "Epoch 2/10\n",
      "858/858 [==============================] - 64s 74ms/step - loss: 0.0213 - accuracy: 0.9934 - val_loss: 0.5259 - val_accuracy: 0.8656\n",
      "Epoch 3/10\n",
      "858/858 [==============================] - 64s 74ms/step - loss: 0.0089 - accuracy: 0.9969 - val_loss: 0.6074 - val_accuracy: 0.8735\n",
      "Epoch 4/10\n",
      "858/858 [==============================] - 73s 85ms/step - loss: 0.0084 - accuracy: 0.9975 - val_loss: 0.5550 - val_accuracy: 0.9090\n",
      "Epoch 5/10\n",
      "858/858 [==============================] - 80s 93ms/step - loss: 0.0084 - accuracy: 0.9979 - val_loss: 0.2764 - val_accuracy: 0.9446\n",
      "Epoch 6/10\n",
      "858/858 [==============================] - 86s 100ms/step - loss: 0.0064 - accuracy: 0.9985 - val_loss: 0.2176 - val_accuracy: 0.9530\n",
      "Epoch 7/10\n",
      "858/858 [==============================] - 80s 94ms/step - loss: 0.0038 - accuracy: 0.9988 - val_loss: 0.3054 - val_accuracy: 0.9532\n",
      "Epoch 8/10\n",
      "858/858 [==============================] - 93s 108ms/step - loss: 0.0028 - accuracy: 0.9991 - val_loss: 0.3043 - val_accuracy: 0.9490\n",
      "Epoch 9/10\n",
      "858/858 [==============================] - 76s 89ms/step - loss: 0.0042 - accuracy: 0.9990 - val_loss: 0.8387 - val_accuracy: 0.8747\n",
      "Epoch 10/10\n",
      "858/858 [==============================] - 76s 89ms/step - loss: 0.0039 - accuracy: 0.9991 - val_loss: 0.3026 - val_accuracy: 0.9538\n"
     ]
    },
    {
     "data": {
      "text/plain": "<keras.callbacks.History at 0x1ffcc0cfac0>"
     },
     "execution_count": 22,
     "metadata": {},
     "output_type": "execute_result"
    }
   ],
   "source": [
    "model.fit(x_train, y_train, epochs=10, verbose=1, validation_data=(x_valid, y_valid))"
   ],
   "metadata": {
    "collapsed": false,
    "pycharm": {
     "name": "#%%\n"
    }
   }
  },
  {
   "cell_type": "markdown",
   "source": [],
   "metadata": {
    "collapsed": false,
    "pycharm": {
     "name": "#%% md\n"
    }
   }
  }
 ],
 "metadata": {
  "kernelspec": {
   "display_name": "Python 3",
   "language": "python",
   "name": "python3"
  },
  "language_info": {
   "codemirror_mode": {
    "name": "ipython",
    "version": 2
   },
   "file_extension": ".py",
   "mimetype": "text/x-python",
   "name": "python",
   "nbconvert_exporter": "python",
   "pygments_lexer": "ipython2",
   "version": "2.7.6"
  }
 },
 "nbformat": 4,
 "nbformat_minor": 0
}