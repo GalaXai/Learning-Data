{
 "cells": [
  {
   "cell_type": "markdown",
   "source": [
    "# Embedding layer\n",
    "\n",
    "```python\n",
    "model.add(Embedding(input_dimension, output_dimension, input_length=input_len))\n",
    "```\n",
    "\n",
    "This layer will take the `Tokenized` sequences and will learn an embedding for all of the words in the training dataset. Mathematically, embeddings work the same way as a neuron in a neural network, but conceptually,their goal is to reduce the number of dimensions for some or all of the features. In this case, it will represent each word as a vector, and the information within that vector will contain the relationship between each word\n",
    "\n",
    "<img src=\"images/embedding.png\" width= 400 />\n",
    "\n",
    "# Long Short Term Memory Layer\n",
    "```Python\n",
    "model.add(LSTM(units))\n",
    "\n",
    "```\n",
    "LSTM - Long Short Term Memory is a type of recurrent neural network or RNN. Unlike traditional feed-forward networks that we've seen so far, recurrent networks have loops in them, allowing information to persist.\n",
    "\n",
    "<img src=\"images/rnn_rolled.png\" width= 250 />\n",
    "\n",
    "New information (X) gets passed in to the network, which spits out a prediction (h). Additionally, information from the layer get saved, and used as input for the next predictor.\n",
    "\n",
    "<img src=\"images/rnn_unrolled.png\" width = 750 />\n",
    "\n",
    "We can see that when a new piece of data (X) is feed into the network, that network both spits out a prediction (h) and also passes some information along the next layer. The next layer gets another piece of data, but gets to learn from the layer before it as well.\n",
    "\n",
    "Traditional RNNs suffer from the issue of more recent information contributing more than information from further back. LSTMs are a special type of recurrent layer that are able to learn and retain longer term information."
   ],
   "metadata": {
    "collapsed": false,
    "pycharm": {
     "name": "#%% md\n"
    }
   }
  },
  {
   "cell_type": "code",
   "execution_count": null,
   "outputs": [],
   "source": [],
   "metadata": {
    "collapsed": false,
    "pycharm": {
     "name": "#%%\n"
    }
   }
  }
 ],
 "metadata": {
  "kernelspec": {
   "display_name": "Python 3",
   "language": "python",
   "name": "python3"
  },
  "language_info": {
   "codemirror_mode": {
    "name": "ipython",
    "version": 2
   },
   "file_extension": ".py",
   "mimetype": "text/x-python",
   "name": "python",
   "nbconvert_exporter": "python",
   "pygments_lexer": "ipython2",
   "version": "2.7.6"
  }
 },
 "nbformat": 4,
 "nbformat_minor": 0
}